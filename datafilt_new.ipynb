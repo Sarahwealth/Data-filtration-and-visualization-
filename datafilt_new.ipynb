{
 "cells": [
  {
   "cell_type": "code",
   "execution_count": 37,
   "metadata": {},
   "outputs": [],
   "source": [
    "import pandas as pd\n",
    "import Bio\n",
    "from Bio import SeqIO\n",
    "from functools import reduce"
   ]
  },
  {
   "cell_type": "code",
   "execution_count": 38,
   "metadata": {},
   "outputs": [],
   "source": [
    "#Reading the clinical data\n",
    "clinical_data2 = pd.read_csv('gisaid_hcov-19_table.tsv', delimiter ='\\t')\n",
    "#adding undersccore to column names\n",
    "clinical_data2.columns = [c.replace(' ','_') for c in clinical_data2.columns]"
   ]
  },
  {
   "cell_type": "code",
   "execution_count": 39,
   "metadata": {},
   "outputs": [],
   "source": [
    "clinical_data_filt2 = clinical_data2.dropna(how='any', subset =['Patient_status'])"
   ]
  },
  {
   "cell_type": "code",
   "execution_count": 40,
   "metadata": {},
   "outputs": [],
   "source": [
    "missing1 = clinical_data_filt2[clinical_data_filt2.Patient_status == 'unknown ']\n",
    "missing2 = clinical_data_filt2[clinical_data_filt2.Patient_status == 'Not known']\n",
    "missing3 = clinical_data_filt2[clinical_data_filt2.Patient_status == 'unkown']\n",
    "missing4 = clinical_data_filt2[clinical_data_filt2.Patient_status == ' unknown']\n",
    "missing5 = clinical_data_filt2[clinical_data_filt2.Patient_status == 'unknow']\n",
    "missing6 = clinical_data_filt2[clinical_data_filt2.Patient_status == 'Unknow']\n",
    "missing7 = clinical_data_filt2[clinical_data_filt2.Patient_status == '\\ufeffunknown']\n",
    "missing8 = clinical_data_filt2[clinical_data_filt2.Patient_status == '-']\n",
    "missing9 = clinical_data_filt2[clinical_data_filt2.Patient_status == 'uncknown']\n",
    "missing10 = clinical_data_filt2[clinical_data_filt2.Patient_status == 'Unkown']"
   ]
  },
  {
   "cell_type": "code",
   "execution_count": 41,
   "metadata": {},
   "outputs": [],
   "source": [
    "ind = []\n",
    "for i in range(1,11):\n",
    "    ind.append(list(globals()[\"missing\" + str(i)].index))"
   ]
  },
  {
   "cell_type": "code",
   "execution_count": 42,
   "metadata": {},
   "outputs": [],
   "source": [
    "single_list = reduce(lambda x,y: x+y, ind)"
   ]
  },
  {
   "cell_type": "code",
   "execution_count": 43,
   "metadata": {},
   "outputs": [],
   "source": [
    "clinical_data_filt_3 = clinical_data_filt2.drop(single_list)"
   ]
  },
  {
   "cell_type": "code",
   "execution_count": 44,
   "metadata": {},
   "outputs": [
    {
     "data": {
      "text/plain": [
       "4292"
      ]
     },
     "execution_count": 44,
     "metadata": {},
     "output_type": "execute_result"
    }
   ],
   "source": [
    "clinical_data_filt_3[\"Accession_ID\"].nunique()"
   ]
  },
  {
   "cell_type": "code",
   "execution_count": 45,
   "metadata": {},
   "outputs": [],
   "source": [
    "#Removing samples for non human host\n",
    "\n",
    "host_nonhuman1 = clinical_data_filt_3[clinical_data_filt_3.Host == 'Environment']\n",
    "host_nonhuman2 = clinical_data_filt_3[clinical_data_filt_3.Host == 'Panthera tigris jacksoni']"
   ]
  },
  {
   "cell_type": "code",
   "execution_count": 46,
   "metadata": {},
   "outputs": [],
   "source": [
    "clinical_data_filt_4 = clinical_data_filt_3.drop(host_nonhuman1.index)"
   ]
  },
  {
   "cell_type": "code",
   "execution_count": 47,
   "metadata": {},
   "outputs": [],
   "source": [
    "clinical_data_filt_5 = clinical_data_filt_4.drop(host_nonhuman2.index)"
   ]
  },
  {
   "cell_type": "code",
   "execution_count": 48,
   "metadata": {},
   "outputs": [],
   "source": [
    "clinical_data_filt_5.to_csv('gisaid_hcov-clinical_filt.tsv', sep ='\\t', index = False)"
   ]
  },
  {
   "cell_type": "code",
   "execution_count": 49,
   "metadata": {},
   "outputs": [],
   "source": [
    "new_ids =list(clinical_data_filt_5[\"Accession_ID\"])"
   ]
  },
  {
   "cell_type": "code",
   "execution_count": 52,
   "metadata": {},
   "outputs": [],
   "source": [
    "new_file = open('gisaid_hcov-19_filt.fasta','w')\n",
    "for records in SeqIO.parse('gisaid_hcov-19_2020_08_17_14.fasta','fasta'):\n",
    "    for i in new_ids:\n",
    "        if i in records.description:\n",
    "            new_file.write('>'+records.description.split('/')[1] + '|' + i)\n",
    "            new_file.write('\\n')\n",
    "            new_file.write(str(records.seq))\n",
    "            new_file.write('\\n')             \n",
    "            \n",
    "            \n"
   ]
  },
  {
   "cell_type": "code",
   "execution_count": 53,
   "metadata": {},
   "outputs": [],
   "source": [
    "new_file.close()"
   ]
  },
  {
   "cell_type": "code",
   "execution_count": null,
   "metadata": {},
   "outputs": [],
   "source": []
  }
 ],
 "metadata": {
  "kernelspec": {
   "display_name": "Python 3",
   "language": "python",
   "name": "python3"
  },
  "language_info": {
   "codemirror_mode": {
    "name": "ipython",
    "version": 3
   },
   "file_extension": ".py",
   "mimetype": "text/x-python",
   "name": "python",
   "nbconvert_exporter": "python",
   "pygments_lexer": "ipython3",
   "version": "3.7.7"
  }
 },
 "nbformat": 4,
 "nbformat_minor": 4
}
