{
 "cells": [
  {
   "cell_type": "code",
   "execution_count": 1,
   "metadata": {},
   "outputs": [],
   "source": [
    "import Bio\n",
    "from Bio import SeqIO"
   ]
  },
  {
   "cell_type": "code",
   "execution_count": 2,
   "metadata": {},
   "outputs": [
    {
     "name": "stdout",
     "output_type": "stream",
     "text": [
      "NC_045512.2\n"
     ]
    }
   ],
   "source": [
    "for record in SeqIO.parse('./Hackdata/sequence.fasta','fasta'):\n",
    "    print(record.id)"
   ]
  },
  {
   "cell_type": "code",
   "execution_count": 3,
   "metadata": {},
   "outputs": [
    {
     "name": "stdout",
     "output_type": "stream",
     "text": [
      "ID: NC_045512.2\n",
      "Name: NC_045512.2\n",
      "Description: NC_045512.2 Severe acute respiratory syndrome coronavirus 2 isolate Wuhan-Hu-1, complete genome\n",
      "Number of features: 0\n",
      "Seq('ATTAAAGGTTTATACCTTCCCAGGTAACAAACCAACCAACTTTCGATCTCTTGT...AAA', SingleLetterAlphabet())\n"
     ]
    }
   ],
   "source": [
    "for record in SeqIO.parse('./Hackdata/sequence.fasta','fasta'):\n",
    "    print(record)"
   ]
  },
  {
   "cell_type": "code",
   "execution_count": 4,
   "metadata": {},
   "outputs": [
    {
     "data": {
      "text/plain": [
       "SeqRecord(seq=Seq('ATTAAAGGTTTATACCTTCCCAGGTAACAAACCAACCAACTTTCGATCTCTTGT...AAA', SingleLetterAlphabet()), id='NC_045512.2', name='NC_045512.2', description='NC_045512.2 Severe acute respiratory syndrome coronavirus 2 isolate Wuhan-Hu-1, complete genome', dbxrefs=[])"
      ]
     },
     "execution_count": 4,
     "metadata": {},
     "output_type": "execute_result"
    }
   ],
   "source": [
    "ncov_hack = SeqIO.read('./Hackdata/sequence.fasta','fasta')\n",
    "ncov_hack"
   ]
  },
  {
   "cell_type": "code",
   "execution_count": 5,
   "metadata": {},
   "outputs": [
    {
     "data": {
      "text/plain": [
       "Seq('ATTAAAGGTTTATACCTTCCCAGGTAACAAACCAACCAACTTTCGATCTCTTGT...AAA', SingleLetterAlphabet())"
      ]
     },
     "execution_count": 5,
     "metadata": {},
     "output_type": "execute_result"
    }
   ],
   "source": [
    "ncov_dna = ncov_hack.seq\n",
    "ncov_dna"
   ]
  },
  {
   "cell_type": "code",
   "execution_count": 6,
   "metadata": {},
   "outputs": [
    {
     "data": {
      "text/plain": [
       "29903"
      ]
     },
     "execution_count": 6,
     "metadata": {},
     "output_type": "execute_result"
    }
   ],
   "source": [
    "#sequence length\n",
    "len(ncov_dna)"
   ]
  },
  {
   "cell_type": "code",
   "execution_count": 7,
   "metadata": {},
   "outputs": [],
   "source": [
    "for nucleotides in SeqIO.parse('./Hackdata/sequence.fasta', \"fasta\") :\n",
    "#count nucleotides in this record...\n",
    "    Gene_name = nucleotides.name\n",
    "    A_count = nucleotides.seq.count('A')\n",
    "    C_count = nucleotides.seq.count('C')\n",
    "    G_count = nucleotides.seq.count('G')\n",
    "    T_count = nucleotides.seq.count('T')\n",
    "    Gene_length = len(nucleotides.seq)"
   ]
  },
  {
   "cell_type": "code",
   "execution_count": 8,
   "metadata": {},
   "outputs": [],
   "source": [
    "import pandas as pd\n",
    "GC_percentage = (float(C_count + G_count) / Gene_length)*100\n",
    "ncov_output = pd.DataFrame({'Gene_name':Gene_name,'A_count':A_count, 'C_count':C_count,\n",
    "                       'G_count':G_count,'T_count':T_count,'Gene_length': Gene_length,\n",
    "                       'GC_percentage':GC_percentage}, index=[1])\n",
    "\n"
   ]
  },
  {
   "cell_type": "code",
   "execution_count": 9,
   "metadata": {},
   "outputs": [
    {
     "data": {
      "text/html": [
       "<div>\n",
       "<style scoped>\n",
       "    .dataframe tbody tr th:only-of-type {\n",
       "        vertical-align: middle;\n",
       "    }\n",
       "\n",
       "    .dataframe tbody tr th {\n",
       "        vertical-align: top;\n",
       "    }\n",
       "\n",
       "    .dataframe thead th {\n",
       "        text-align: right;\n",
       "    }\n",
       "</style>\n",
       "<table border=\"1\" class=\"dataframe\">\n",
       "  <thead>\n",
       "    <tr style=\"text-align: right;\">\n",
       "      <th></th>\n",
       "      <th>Gene_name</th>\n",
       "      <th>A_count</th>\n",
       "      <th>C_count</th>\n",
       "      <th>G_count</th>\n",
       "      <th>T_count</th>\n",
       "      <th>Gene_length</th>\n",
       "      <th>GC_percentage</th>\n",
       "    </tr>\n",
       "  </thead>\n",
       "  <tbody>\n",
       "    <tr>\n",
       "      <th>1</th>\n",
       "      <td>NC_045512.2</td>\n",
       "      <td>8954</td>\n",
       "      <td>5492</td>\n",
       "      <td>5863</td>\n",
       "      <td>9594</td>\n",
       "      <td>29903</td>\n",
       "      <td>37.972779</td>\n",
       "    </tr>\n",
       "  </tbody>\n",
       "</table>\n",
       "</div>"
      ],
      "text/plain": [
       "     Gene_name  A_count  C_count  G_count  T_count  Gene_length  GC_percentage\n",
       "1  NC_045512.2     8954     5492     5863     9594        29903      37.972779"
      ]
     },
     "execution_count": 9,
     "metadata": {},
     "output_type": "execute_result"
    }
   ],
   "source": [
    "ncov_output"
   ]
  },
  {
   "cell_type": "code",
   "execution_count": 10,
   "metadata": {},
   "outputs": [],
   "source": [
    "#Analyzing second genome sequence"
   ]
  },
  {
   "cell_type": "code",
   "execution_count": 11,
   "metadata": {},
   "outputs": [
    {
     "name": "stdout",
     "output_type": "stream",
     "text": [
      "KT388711.1\n"
     ]
    }
   ],
   "source": [
    "for influenza in SeqIO.parse(r\"C:\\Users\\SARAH\\influenza_a_virus.fasta\",\"fasta\"):\n",
    "    print(influenza.id)"
   ]
  },
  {
   "cell_type": "code",
   "execution_count": 12,
   "metadata": {},
   "outputs": [
    {
     "name": "stdout",
     "output_type": "stream",
     "text": [
      "ID: KT388711.1\n",
      "Name: KT388711.1\n",
      "Description: KT388711.1 Influenza A virus (A/goose/Taiwan/TNO20/2015(H5N8)) segment 7 cRNA sequence\n",
      "Number of features: 0\n",
      "Seq('ATGAGTCTTCTAACCGAGGTCGAAACGTACGTTCTCTCTATCATCCCGTCAGGC...TAA', SingleLetterAlphabet())\n"
     ]
    }
   ],
   "source": [
    "for influenza in SeqIO.parse(r\"C:\\Users\\SARAH\\influenza_a_virus.fasta\",\"fasta\"):\n",
    "    print(influenza)"
   ]
  },
  {
   "cell_type": "code",
   "execution_count": 13,
   "metadata": {},
   "outputs": [
    {
     "data": {
      "text/plain": [
       "SeqRecord(seq=Seq('ATGAGTCTTCTAACCGAGGTCGAAACGTACGTTCTCTCTATCATCCCGTCAGGC...TAA', SingleLetterAlphabet()), id='KT388711.1', name='KT388711.1', description='KT388711.1 Influenza A virus (A/goose/Taiwan/TNO20/2015(H5N8)) segment 7 cRNA sequence', dbxrefs=[])"
      ]
     },
     "execution_count": 13,
     "metadata": {},
     "output_type": "execute_result"
    }
   ],
   "source": [
    "influenza_hack= SeqIO.read(r\"C:\\Users\\SARAH\\influenza_a_virus.fasta\",\"fasta\")\n",
    "influenza_hack"
   ]
  },
  {
   "cell_type": "code",
   "execution_count": 14,
   "metadata": {},
   "outputs": [
    {
     "data": {
      "text/plain": [
       "Seq('ATGAGTCTTCTAACCGAGGTCGAAACGTACGTTCTCTCTATCATCCCGTCAGGC...TAA', SingleLetterAlphabet())"
      ]
     },
     "execution_count": 14,
     "metadata": {},
     "output_type": "execute_result"
    }
   ],
   "source": [
    "influenza_dna = influenza_hack.seq\n",
    "influenza_dna"
   ]
  },
  {
   "cell_type": "code",
   "execution_count": 15,
   "metadata": {},
   "outputs": [
    {
     "data": {
      "text/plain": [
       "982"
      ]
     },
     "execution_count": 15,
     "metadata": {},
     "output_type": "execute_result"
    }
   ],
   "source": [
    "len(influenza_dna)"
   ]
  },
  {
   "cell_type": "code",
   "execution_count": 16,
   "metadata": {},
   "outputs": [],
   "source": [
    "#analyze GC content\n",
    "for nucleotides2 in SeqIO.parse(r\"C:\\Users\\SARAH\\influenza_a_virus.fasta\", \"fasta\") :\n",
    "#count nucleotides in this record...\n",
    "    Gene_name2 = nucleotides2.name\n",
    "    A2_count = nucleotides2.seq.count('A')\n",
    "    C2_count = nucleotides2.seq.count('C')\n",
    "    G2_count = nucleotides2.seq.count('G')\n",
    "    T2_count = nucleotides2.seq.count('T')\n",
    "    Gene_length2 = len(nucleotides2.seq)"
   ]
  },
  {
   "cell_type": "code",
   "execution_count": 17,
   "metadata": {},
   "outputs": [],
   "source": [
    "import pandas as pd\n",
    "GC_percentage2 = (float(C2_count + G2_count) / Gene_length2)*100\n",
    "influenza_output = pd.DataFrame({'Gene_name':Gene_name2,'A_count':A2_count, 'C_count':C2_count,\n",
    "                       'G_count':G2_count,'T_count':T2_count,'Gene_length': Gene_length2,\n",
    "                       'GC_percentage':GC_percentage2}, index=[2])"
   ]
  },
  {
   "cell_type": "code",
   "execution_count": 18,
   "metadata": {},
   "outputs": [
    {
     "data": {
      "text/html": [
       "<div>\n",
       "<style scoped>\n",
       "    .dataframe tbody tr th:only-of-type {\n",
       "        vertical-align: middle;\n",
       "    }\n",
       "\n",
       "    .dataframe tbody tr th {\n",
       "        vertical-align: top;\n",
       "    }\n",
       "\n",
       "    .dataframe thead th {\n",
       "        text-align: right;\n",
       "    }\n",
       "</style>\n",
       "<table border=\"1\" class=\"dataframe\">\n",
       "  <thead>\n",
       "    <tr style=\"text-align: right;\">\n",
       "      <th></th>\n",
       "      <th>Gene_name</th>\n",
       "      <th>A_count</th>\n",
       "      <th>C_count</th>\n",
       "      <th>G_count</th>\n",
       "      <th>T_count</th>\n",
       "      <th>Gene_length</th>\n",
       "      <th>GC_percentage</th>\n",
       "    </tr>\n",
       "  </thead>\n",
       "  <tbody>\n",
       "    <tr>\n",
       "      <th>2</th>\n",
       "      <td>KT388711.1</td>\n",
       "      <td>276</td>\n",
       "      <td>214</td>\n",
       "      <td>261</td>\n",
       "      <td>231</td>\n",
       "      <td>982</td>\n",
       "      <td>48.370672</td>\n",
       "    </tr>\n",
       "  </tbody>\n",
       "</table>\n",
       "</div>"
      ],
      "text/plain": [
       "    Gene_name  A_count  C_count  G_count  T_count  Gene_length  GC_percentage\n",
       "2  KT388711.1      276      214      261      231          982      48.370672"
      ]
     },
     "execution_count": 18,
     "metadata": {},
     "output_type": "execute_result"
    }
   ],
   "source": [
    "influenza_output"
   ]
  },
  {
   "cell_type": "code",
   "execution_count": 19,
   "metadata": {},
   "outputs": [
    {
     "name": "stdout",
     "output_type": "stream",
     "text": [
      "KT225476.2 ID: KT225476.2\n",
      "Name: KT225476.2\n",
      "Description: KT225476.2 Middle East respiratory syndrome coronavirus isolate MERS-CoV/THA/CU/17_06_2015, complete genome\n",
      "Number of features: 0\n",
      "Seq('AGTGAATAGCTTGGCTATCTCACTTCCCCTCGTTCTCTTGCAGAACTTTGATTT...CTC', SingleLetterAlphabet())\n"
     ]
    }
   ],
   "source": [
    "#Analyzing genome for MiddleEast respiratory syndrome-coronavirus\n",
    "for Mers in SeqIO.parse(r\"C:\\Users\\SARAH\\mers.fasta\",\"fasta\"):\n",
    "    print(Mers.id, Mers)"
   ]
  },
  {
   "cell_type": "code",
   "execution_count": 20,
   "metadata": {},
   "outputs": [
    {
     "data": {
      "text/plain": [
       "SeqRecord(seq=Seq('AGTGAATAGCTTGGCTATCTCACTTCCCCTCGTTCTCTTGCAGAACTTTGATTT...CTC', SingleLetterAlphabet()), id='KT225476.2', name='KT225476.2', description='KT225476.2 Middle East respiratory syndrome coronavirus isolate MERS-CoV/THA/CU/17_06_2015, complete genome', dbxrefs=[])"
      ]
     },
     "execution_count": 20,
     "metadata": {},
     "output_type": "execute_result"
    }
   ],
   "source": [
    "MERS = SeqIO.read(r\"C:\\Users\\SARAH\\mers.fasta\",\"fasta\")\n",
    "MERS"
   ]
  },
  {
   "cell_type": "code",
   "execution_count": 21,
   "metadata": {},
   "outputs": [
    {
     "data": {
      "text/plain": [
       "Seq('AGTGAATAGCTTGGCTATCTCACTTCCCCTCGTTCTCTTGCAGAACTTTGATTT...CTC', SingleLetterAlphabet())"
      ]
     },
     "execution_count": 21,
     "metadata": {},
     "output_type": "execute_result"
    }
   ],
   "source": [
    "MERS_dna = MERS.seq\n",
    "MERS_dna"
   ]
  },
  {
   "cell_type": "code",
   "execution_count": 22,
   "metadata": {},
   "outputs": [],
   "source": [
    "#analyze GC content\n",
    "for nucleotides3 in SeqIO.parse(r\"C:\\Users\\SARAH\\mers.fasta\", \"fasta\") :\n",
    "#count nucleotides in this record...\n",
    "    Gene_name3 = nucleotides3.name\n",
    "    A3_count = nucleotides3.seq.count('A')\n",
    "    C3_count = nucleotides3.seq.count('C')\n",
    "    G3_count = nucleotides3.seq.count('G')\n",
    "    T3_count = nucleotides3.seq.count('T')\n",
    "    Gene_length3 = len(nucleotides3.seq)\n"
   ]
  },
  {
   "cell_type": "code",
   "execution_count": 23,
   "metadata": {},
   "outputs": [],
   "source": [
    "import pandas as pd\n",
    "GC_percentage3 = (float(C3_count + G3_count) / Gene_length3)*100\n",
    "MERS_output = pd.DataFrame({'Gene_name':Gene_name3,'A_count':A3_count, 'C_count':C3_count,\n",
    "                       'G_count':G3_count,'T_count':T3_count,'Gene_length': Gene_length3,\n",
    "                       'GC_percentage':GC_percentage3}, index=[3])"
   ]
  },
  {
   "cell_type": "code",
   "execution_count": 24,
   "metadata": {},
   "outputs": [
    {
     "data": {
      "text/html": [
       "<div>\n",
       "<style scoped>\n",
       "    .dataframe tbody tr th:only-of-type {\n",
       "        vertical-align: middle;\n",
       "    }\n",
       "\n",
       "    .dataframe tbody tr th {\n",
       "        vertical-align: top;\n",
       "    }\n",
       "\n",
       "    .dataframe thead th {\n",
       "        text-align: right;\n",
       "    }\n",
       "</style>\n",
       "<table border=\"1\" class=\"dataframe\">\n",
       "  <thead>\n",
       "    <tr style=\"text-align: right;\">\n",
       "      <th></th>\n",
       "      <th>Gene_name</th>\n",
       "      <th>A_count</th>\n",
       "      <th>C_count</th>\n",
       "      <th>G_count</th>\n",
       "      <th>T_count</th>\n",
       "      <th>Gene_length</th>\n",
       "      <th>GC_percentage</th>\n",
       "    </tr>\n",
       "  </thead>\n",
       "  <tbody>\n",
       "    <tr>\n",
       "      <th>3</th>\n",
       "      <td>KT225476.2</td>\n",
       "      <td>7795</td>\n",
       "      <td>6044</td>\n",
       "      <td>6237</td>\n",
       "      <td>9733</td>\n",
       "      <td>29809</td>\n",
       "      <td>41.198967</td>\n",
       "    </tr>\n",
       "  </tbody>\n",
       "</table>\n",
       "</div>"
      ],
      "text/plain": [
       "    Gene_name  A_count  C_count  G_count  T_count  Gene_length  GC_percentage\n",
       "3  KT225476.2     7795     6044     6237     9733        29809      41.198967"
      ]
     },
     "execution_count": 24,
     "metadata": {},
     "output_type": "execute_result"
    }
   ],
   "source": [
    "MERS_output"
   ]
  },
  {
   "cell_type": "code",
   "execution_count": 25,
   "metadata": {},
   "outputs": [],
   "source": [
    "outputs =[influenza_output,MERS_output,ncov_output]\n",
    "results = pd.concat(outputs)"
   ]
  },
  {
   "cell_type": "code",
   "execution_count": 52,
   "metadata": {},
   "outputs": [],
   "source": [
    "results['Isolate'] = ['Influenza_A','MERS','SARSCov2']\n",
    "results.to_csv('Team_mendeleevtable.csv')"
   ]
  },
  {
   "cell_type": "code",
   "execution_count": 53,
   "metadata": {},
   "outputs": [
    {
     "data": {
      "text/html": [
       "<div>\n",
       "<style scoped>\n",
       "    .dataframe tbody tr th:only-of-type {\n",
       "        vertical-align: middle;\n",
       "    }\n",
       "\n",
       "    .dataframe tbody tr th {\n",
       "        vertical-align: top;\n",
       "    }\n",
       "\n",
       "    .dataframe thead th {\n",
       "        text-align: right;\n",
       "    }\n",
       "</style>\n",
       "<table border=\"1\" class=\"dataframe\">\n",
       "  <thead>\n",
       "    <tr style=\"text-align: right;\">\n",
       "      <th></th>\n",
       "      <th>Gene_name</th>\n",
       "      <th>A_count</th>\n",
       "      <th>C_count</th>\n",
       "      <th>G_count</th>\n",
       "      <th>T_count</th>\n",
       "      <th>Gene_length</th>\n",
       "      <th>GC_percentage</th>\n",
       "      <th>Isolate</th>\n",
       "    </tr>\n",
       "  </thead>\n",
       "  <tbody>\n",
       "    <tr>\n",
       "      <th>2</th>\n",
       "      <td>KT388711.1</td>\n",
       "      <td>276</td>\n",
       "      <td>214</td>\n",
       "      <td>261</td>\n",
       "      <td>231</td>\n",
       "      <td>982</td>\n",
       "      <td>48.370672</td>\n",
       "      <td>Influenza_A</td>\n",
       "    </tr>\n",
       "    <tr>\n",
       "      <th>3</th>\n",
       "      <td>KT225476.2</td>\n",
       "      <td>7795</td>\n",
       "      <td>6044</td>\n",
       "      <td>6237</td>\n",
       "      <td>9733</td>\n",
       "      <td>29809</td>\n",
       "      <td>41.198967</td>\n",
       "      <td>MERS</td>\n",
       "    </tr>\n",
       "    <tr>\n",
       "      <th>1</th>\n",
       "      <td>NC_045512.2</td>\n",
       "      <td>8954</td>\n",
       "      <td>5492</td>\n",
       "      <td>5863</td>\n",
       "      <td>9594</td>\n",
       "      <td>29903</td>\n",
       "      <td>37.972779</td>\n",
       "      <td>SARSCov2</td>\n",
       "    </tr>\n",
       "  </tbody>\n",
       "</table>\n",
       "</div>"
      ],
      "text/plain": [
       "     Gene_name  A_count  C_count  G_count  T_count  Gene_length  \\\n",
       "2   KT388711.1      276      214      261      231          982   \n",
       "3   KT225476.2     7795     6044     6237     9733        29809   \n",
       "1  NC_045512.2     8954     5492     5863     9594        29903   \n",
       "\n",
       "   GC_percentage      Isolate  \n",
       "2      48.370672  Influenza_A  \n",
       "3      41.198967         MERS  \n",
       "1      37.972779     SARSCov2  "
      ]
     },
     "execution_count": 53,
     "metadata": {},
     "output_type": "execute_result"
    }
   ],
   "source": [
    "results"
   ]
  },
  {
   "cell_type": "code",
   "execution_count": 54,
   "metadata": {},
   "outputs": [],
   "source": [
    "#graph of sequence"
   ]
  },
  {
   "cell_type": "code",
   "execution_count": 74,
   "metadata": {},
   "outputs": [
    {
     "data": {
      "image/png": "[encoded data removed]",
      "text/plain": [
       "<Figure size 420x350 with 1 Axes>"
      ]
     },
     "metadata": {},
     "output_type": "display_data"
    }
   ],
   "source": [
    "from matplotlib.pyplot import figure\n",
    "figure(num=None, figsize=(6,5), dpi=70, facecolor='w', edgecolor='k')\n",
    "pylab.plot((results['Gene_length']/1000),results['GC_percentage'], marker ='o')\n",
    "plt.annotate('SARS_cov2',xy=(30,38),xytext=(30,38))\n",
    "plt.annotate('MERS',xy=(30,41),xytext=(30,41))\n",
    "plt.annotate('Influenza-A',xy=(2,48),xytext=(2,48))\n",
    "plt.xlabel(\"Gene size in kb\")\n",
    "plt.ylabel(\"GC%\")\n",
    "plt.title(\"GC% percentage of the Influenza A, MERS and SARs-cov2 viruses\")\n",
    "plt.savefig('Graph1.png', bbox_inches='tight')\n",
    "pylab.show()"
   ]
  },
  {
   "cell_type": "code",
   "execution_count": null,
   "metadata": {},
   "outputs": [],
   "source": []
  },
  {
   "cell_type": "code",
   "execution_count": null,
   "metadata": {},
   "outputs": [],
   "source": []
  },
  {
   "cell_type": "code",
   "execution_count": null,
   "metadata": {},
   "outputs": [],
   "source": []
  },
  {
   "cell_type": "code",
   "execution_count": null,
   "metadata": {},
   "outputs": [],
   "source": []
  }
 ],
 "metadata": {
  "kernelspec": {
   "display_name": "Python 3",
   "language": "python",
   "name": "python3"
  },
  "language_info": {
   "codemirror_mode": {
    "name": "ipython",
    "version": 3
   },
   "file_extension": ".py",
   "mimetype": "text/x-python",
   "name": "python",
   "nbconvert_exporter": "python",
   "pygments_lexer": "ipython3",
   "version": "3.7.3"
  }
 },
 "nbformat": 4,
 "nbformat_minor": 4
}
